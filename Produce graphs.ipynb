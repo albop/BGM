{
 "cells": [
  {
   "cell_type": "markdown",
   "metadata": {},
   "source": [
    "## Compute Welfares"
   ]
  },
  {
   "cell_type": "code",
   "execution_count": 1,
   "metadata": {
    "collapsed": true
   },
   "outputs": [],
   "source": [
    "# Define the various scenarios\n",
    "N = 100\n",
    "experiments = [\n",
    "    dict(name='ces', param='theta', range=(4,8,N)),\n",
    "    dict(name='exponential', param='alpha', range=(1,10,N)),\n",
    "    dict(name='translog', param='alpha', range=(1,10,N))\n",
    "]"
   ]
  },
  {
   "cell_type": "code",
   "execution_count": 2,
   "metadata": {
    "collapsed": false
   },
   "outputs": [],
   "source": [
    "def compute_case(expm):\n",
    "    '''Evaluates welfare for the planner and the competitive equilibrium for various values of a specified parameter.\n",
    "    \n",
    "    Parameters\n",
    "    ----------\n",
    "    expm: dict\n",
    "        Description of the experiment to perform. Contains several fields:\n",
    "        - name: name of the experiment, the corresponding model file is expected to be model_*name*.yaml\n",
    "        - param: name of the parameter to change\n",
    "        - range: set of parameter values (min value, max value, N values)\n",
    "    Returns\n",
    "    -------\n",
    "    df: pandas.DataFrame\n",
    "        Each line contains:\n",
    "        - parameter value\n",
    "        - welfare for the planner optimum\n",
    "        - welfare for the competitive equilibrium\n",
    "    '''\n",
    "        \n",
    "    \n",
    "    import pandas\n",
    "    from dolo import yaml_import\n",
    "    from dolo.algos.fg.steady_state import find_deterministic_equilibrium\n",
    "    from dolo.algos.fg.perturbations_higher_order import approximate_controls\n",
    "    from numpy import exp, array, linspace, column_stack\n",
    "\n",
    "    \n",
    "    case = expm['name']\n",
    "    param = expm['param']\n",
    "    range = expm['range']\n",
    "    \n",
    "    # create parameter range\n",
    "    parm_vec = linspace(*range)\n",
    "        \n",
    "    # import model and get discount rate\n",
    "    model = yaml_import('model_{}.yaml'.format(case))\n",
    "    beta = model.get_calibration('beta')\n",
    "    \n",
    "    values_ce = []\n",
    "    values_po = []\n",
    "    \n",
    "    # solve all calibrations\n",
    "    for i in parm_vec:\n",
    "        \n",
    "        # Set calibrated parater value\n",
    "        pp = {param:i}\n",
    "        model.set_calibration(**pp)\n",
    "        \n",
    "        # Solve for the competitive equilibrium\n",
    "        model.set_calibration(po=0)\n",
    "        calib = find_deterministic_equilibrium(model)\n",
    "        dr_ce = approximate_controls(model, order=2, steady_state=calib, verbose=False)\n",
    "\n",
    "        # Solve for the social planner equilibrium\n",
    "        model.set_calibration(po=1)\n",
    "        calib = find_deterministic_equilibrium(model)\n",
    "        dr_po = approximate_controls(model, order=2, steady_state=calib, verbose=False)     \n",
    "        \n",
    "                    \n",
    "            \n",
    "        # Initial point at which to evaluate the welfare\n",
    "        eval_point = calib['states'].copy()\n",
    "        # Change initial value of N\n",
    "        eval_point[1]*=0.5 # to 50 % of its of its steady-state value\n",
    "#         eval_point[1]=1    # to 1\n",
    "\n",
    "        # Evalueate welfare\n",
    "        w_ce = dr_ce(eval_point)[1]\n",
    "        w_po = dr_po(eval_point)[1]\n",
    "        \n",
    "        # Convert to consumption equivalent\n",
    "        v_ce = exp((1-beta)*w_ce)\n",
    "        v_po = exp((1-beta)*w_po)\n",
    "        \n",
    "        # Add to list of values\n",
    "        values_ce.append(v_ce)\n",
    "        values_po.append(v_po)\n",
    "    \n",
    "   \n",
    "    # Construct dataframe\n",
    "    columns = [h.format(case) for h in ['{}_'+param, '{}_po', '{}_ce']]\n",
    "    df = pandas.DataFrame( column_stack([parm_vec, values_po, values_ce]), columns=columns)\n",
    "    \n",
    "    return df"
   ]
  },
  {
   "cell_type": "code",
   "execution_count": 3,
   "metadata": {
    "collapsed": false
   },
   "outputs": [],
   "source": [
    "# parrallel evaluation (needs 3 workers)\n",
    "# from IPython.parallel import Client\n",
    "# rc = Client()\n",
    "# dviews = rc[:3]\n",
    "# all_welfares = dviews.map_sync(compute_case, experiments)"
   ]
  },
  {
   "cell_type": "code",
   "execution_count": null,
   "metadata": {
    "collapsed": false
   },
   "outputs": [],
   "source": [
    "# serial evaluation\n",
    "all_welfares = [compute_case(exp) for exp in experiments]"
   ]
  },
  {
   "cell_type": "code",
   "execution_count": null,
   "metadata": {
    "collapsed": false
   },
   "outputs": [],
   "source": [
    "# Add welfare gains to dataframe\n",
    "import pandas\n",
    "df = pandas.concat(all_welfares, axis=1)\n",
    "# compute gains\n",
    "for exp in experiments:\n",
    "    case = exp['name']\n",
    "    df['{}_gain'.format(case)] = (df['{}_po'.format(case)]/df['{}_ce'.format(case)]-1)*100\n",
    "# save to Excel\n",
    "df.to_excel('welfare_gains.xls')\n",
    "df"
   ]
  },
  {
   "cell_type": "markdown",
   "metadata": {},
   "source": [
    "## Make plots"
   ]
  },
  {
   "cell_type": "code",
   "execution_count": null,
   "metadata": {
    "collapsed": true
   },
   "outputs": [],
   "source": [
    "from matplotlib import pyplot as plt\n",
    "%matplotlib inline"
   ]
  },
  {
   "cell_type": "code",
   "execution_count": null,
   "metadata": {
    "collapsed": false
   },
   "outputs": [],
   "source": [
    "fig = plt.figure(figsize=(16,3))\n",
    "plt.subplot(131)\n",
    "plt.plot(df['ces_theta'],df['ces_gain'])\n",
    "plt.ylabel('Welfare gains (%)')\n",
    "plt.xlabel(\"$\\\\theta$\")\n",
    "yl = plt.ylim()\n",
    "plt.ylim(0,yl[1])\n",
    "plt.title(\"CES-Benassy\")\n",
    "plt.grid()\n",
    "# xlim(4,8)\n",
    "# ylim(0,0.2)\n",
    "plt.subplot(132)\n",
    "plt.plot(df['exponential_alpha'],df['exponential_gain'])\n",
    "plt.grid()\n",
    "yl = plt.ylim()\n",
    "plt.ylim(0,yl[1])\n",
    "plt.title(\"Exponential\")\n",
    "plt.xlabel(\"$\\\\alpha$\")\n",
    "plt.subplot(133)\n",
    "plt.plot(df['translog_alpha'],df['translog_gain'])\n",
    "plt.grid()\n",
    "yl = plt.ylim()\n",
    "plt.ylim(0,yl[1])\n",
    "plt.title(\"Translog\")\n",
    "plt.xlabel(\"$\\\\alpha$\")\n",
    "plt.savefig('BGM_welfare_gains.png')\n",
    "plt.savefig('BGM_welfare_gains.pdf')\n",
    "plt.savefig('BGM_welfare_gains.svg')\n"
   ]
  },
  {
   "cell_type": "code",
   "execution_count": null,
   "metadata": {
    "collapsed": false
   },
   "outputs": [],
   "source": [
    "## optional: export with plotly\n",
    "from plotly import plotly\n",
    "link = plotly.plot_mpl(fig, filename='BGM_welfare_gains')"
   ]
  },
  {
   "cell_type": "code",
   "execution_count": null,
   "metadata": {
    "collapsed": true
   },
   "outputs": [],
   "source": []
  }
 ],
 "metadata": {
  "kernelspec": {
   "display_name": "IPython (Python 2)",
   "name": "python2"
  },
  "language_info": {
   "codemirror_mode": {
    "name": "ipython",
    "version": 2
   },
   "file_extension": ".py",
   "mimetype": "text/x-python",
   "name": "python",
   "nbconvert_exporter": "python",
   "pygments_lexer": "ipython2",
   "version": "2.7.9"
  }
 },
 "nbformat": 4,
 "nbformat_minor": 0
}